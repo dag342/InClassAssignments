{
  "nbformat": 4,
  "nbformat_minor": 0,
  "metadata": {
    "colab": {
      "provenance": [],
      "authorship_tag": "ABX9TyPXx7yYCO9JFQw64/X+kGU7",
      "include_colab_link": true
    },
    "kernelspec": {
      "name": "python3",
      "display_name": "Python 3"
    },
    "language_info": {
      "name": "python"
    }
  },
  "cells": [
    {
      "cell_type": "markdown",
      "metadata": {
        "id": "view-in-github",
        "colab_type": "text"
      },
      "source": [
        "<a href=\"https://colab.research.google.com/github/dag342/InClassAssignments/blob/main/InClassAssignments.ipynb\" target=\"_parent\"><img src=\"https://colab.research.google.com/assets/colab-badge.svg\" alt=\"Open In Colab\"/></a>"
      ]
    },
    {
      "cell_type": "code",
      "source": [
        "pi = 3.14\n",
        "radius = float(input('Please provide the radius:'))\n",
        "height = float(input('Please provide the height:'))\n",
        "\n",
        "area = 2 * pi * radius ** 2+2 * pi * radius * height\n",
        "\n",
        "print(f'Area of cylinder: {area} sq. ft')"
      ],
      "metadata": {
        "id": "q_7cOCfufBNf",
        "colab": {
          "base_uri": "https://localhost:8080/"
        },
        "outputId": "1033c794-b104-45a8-adcc-491b93964bc8"
      },
      "execution_count": null,
      "outputs": [
        {
          "output_type": "stream",
          "name": "stdout",
          "text": [
            "Please provide the radius:5\n",
            "Please provide the height:6\n",
            "Area of cylinder: 345.4 sq. ft\n"
          ]
        }
      ]
    },
    {
      "cell_type": "code",
      "source": [
        "for numberHours in range(1, 9):\n",
        "  fee = 5 + 2.5 * numberHours\n",
        "for numberHours in range(1, 9):\n",
        "  fee = 5 + 2.5 * numberHours\n",
        "  if fee < 10:\n",
        "    fee = 10.0\n",
        "  elif fee > 20:\n",
        "    fee = 20.0\n",
        "  print(numberHours, fee)"
      ],
      "metadata": {
        "colab": {
          "base_uri": "https://localhost:8080/"
        },
        "id": "bLSljEEgaHf7",
        "outputId": "d2759c66-fbeb-4be2-f5fe-d0d3e0186af2"
      },
      "execution_count": null,
      "outputs": [
        {
          "output_type": "stream",
          "name": "stdout",
          "text": [
            "1 10.0\n",
            "2 10.0\n",
            "3 12.5\n",
            "4 15.0\n",
            "5 17.5\n",
            "6 20.0\n",
            "7 20.0\n",
            "8 20.0\n"
          ]
        }
      ]
    },
    {
      "cell_type": "code",
      "source": [
        "import math\n",
        "\n",
        "for adMoney in range (0, 201, 25):\n",
        "  revenue = (20 + 2 * round((adMoney) ** .5) * 10)\n",
        "  costs = 200 + adMoney\n",
        "  profit = revenue - costs\n",
        "  print (adMoney, profit)"
      ],
      "metadata": {
        "colab": {
          "base_uri": "https://localhost:8080/"
        },
        "id": "Dx-Og_LCc7Xu",
        "outputId": "028c9b06-5c81-41f5-8ce1-1db678c582ce"
      },
      "execution_count": 11,
      "outputs": [
        {
          "output_type": "stream",
          "name": "stdout",
          "text": [
            "0 -180\n",
            "25 -105\n",
            "50 -90\n",
            "75 -75\n",
            "100 -80\n",
            "125 -85\n",
            "150 -90\n",
            "175 -95\n",
            "200 -100\n"
          ]
        }
      ]
    },
    {
      "cell_type": "code",
      "source": [
        "while True:\n",
        "  userNum1 = float(input(\"Enter the first number: \"))\n",
        "  userOperator = str(input(\"Enter an operator: \"))\n",
        "\n",
        "  if userOperator == \"break\":\n",
        "    print(\"Thanks for using our calculator!\")\n",
        "\n",
        "  userNum2 = float(input(\"Enter a second number: \"))\n",
        "\n",
        "  if userOperator == \"+\":\n",
        "    answer = userNum1 + userNum2\n",
        "  elif userOperator == \"-\":\n",
        "    ansewer = userNum1 - userNum2\n",
        "  elif userOperator == \"*\":\n",
        "    answer = userNum1 * userNum2\n",
        "  elif userOperator == \"/\":\n",
        "    if userNum2 == 0:\n",
        "      print(\"Can't divide by zero. Try again.\")\n",
        "      continue\n",
        "    answer = userNum1 / userNum2\n",
        "  elif userOperator == \"//\":\n",
        "    if userNum2 == 0:\n",
        "      print(\"Can't divide by zero. Try again.\")\n",
        "      continue\n",
        "    answer = userNum1 // userNum2\n",
        "  elif userOperator == \"%\":\n",
        "    if userNum2 == 0:\n",
        "      print(\"Can't divide by zero. Try again.\")\n",
        "      continue\n",
        "    answer = userNum1 % userNum2\n",
        "  elif userOperator == \"**\":\n",
        "    answer = userNum1 ** userNum2\n",
        "  else:\n",
        "    print('Invalid operator:', userOperator)\n",
        "    continue\n",
        "  print(answer)"
      ],
      "metadata": {
        "id": "LgHxcKiNMtZc"
      },
      "execution_count": null,
      "outputs": []
    },
    {
      "cell_type": "code",
      "source": [
        "import random\n",
        "\n",
        "play = input('Do you want to play a game (yes/no)? ').capitalize()\n",
        "\n",
        "while play == 'Yes':\n",
        "  p1 = input('Player - Choose betweem rock/paper/scissors:').capitalize()\n",
        "  p2 = random.choice(['rock','paper', 'scissors']).capitalize()\n",
        "\n",
        "  print(f'Player chose {p1}; Computer chose {p2}')\n",
        "  if p1 == p2:\n",
        "    print('Draw')\n",
        "  elif ((p1 == 'rock' and p2 == 'scissors') or\n",
        "        (p1 == 'scissors' and p2 == 'paper') or\n",
        "        (p1 == 'paper' and p2 == 'rock')\n",
        "        ):\n",
        "    print('Player 1 wins!')\n",
        "  else:\n",
        "    print('Player 2 wins!')\n",
        "\n",
        "  play = input('Do you want to play another game (yes/no)? ').capitalize()\n",
        "print('Good day...')"
      ],
      "metadata": {
        "id": "O_dZRGO3HWFL"
      },
      "execution_count": null,
      "outputs": []
    }
  ]
}