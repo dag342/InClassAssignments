{
  "nbformat": 4,
  "nbformat_minor": 0,
  "metadata": {
    "colab": {
      "provenance": [],
      "authorship_tag": "ABX9TyMw9ht2ksppBOW7NavB6wZS",
      "include_colab_link": true
    },
    "kernelspec": {
      "name": "python3",
      "display_name": "Python 3"
    },
    "language_info": {
      "name": "python"
    }
  },
  "cells": [
    {
      "cell_type": "markdown",
      "metadata": {
        "id": "view-in-github",
        "colab_type": "text"
      },
      "source": [
        "<a href=\"https://colab.research.google.com/github/dag342/InClassAssignments/blob/main/InClassAssignments.ipynb\" target=\"_parent\"><img src=\"https://colab.research.google.com/assets/colab-badge.svg\" alt=\"Open In Colab\"/></a>"
      ]
    },
    {
      "cell_type": "code",
      "source": [
        "1 pi = 3.14\n",
        "2 radius = float(input('Please provide the radius:'))\n",
        "3 height = float(input('Please provide the height:'))\n",
        "4\n",
        "5 area= 2 * pi * radius ** 2+2 * pi * radius * height\n",
        "6\n",
        "7 print(f'Area of cylinder: {area} sq. ft')"
      ],
      "metadata": {
        "id": "q_7cOCfufBNf"
      },
      "execution_count": null,
      "outputs": []
    },
    {
      "cell_type": "markdown",
      "source": [
        "Please provide the radius: 5\n",
        "\n",
        "Please provide the height: 6\n",
        "\n",
        "Area of cylinder: 345.4 sq. ft"
      ],
      "metadata": {
        "id": "mb35b3STBoDZ"
      }
    }
  ]
}