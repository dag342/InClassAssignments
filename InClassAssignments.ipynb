{
  "nbformat": 4,
  "nbformat_minor": 0,
  "metadata": {
    "colab": {
      "provenance": [],
      "authorship_tag": "ABX9TyPAgWNx4tboZYsrbxqAp3ou",
      "include_colab_link": true
    },
    "kernelspec": {
      "name": "python3",
      "display_name": "Python 3"
    },
    "language_info": {
      "name": "python"
    }
  },
  "cells": [
    {
      "cell_type": "markdown",
      "metadata": {
        "id": "view-in-github",
        "colab_type": "text"
      },
      "source": [
        "<a href=\"https://colab.research.google.com/github/dag342/InClassAssignments/blob/main/InClassAssignments.ipynb\" target=\"_parent\"><img src=\"https://colab.research.google.com/assets/colab-badge.svg\" alt=\"Open In Colab\"/></a>"
      ]
    },
    {
      "cell_type": "code",
      "source": [
        "pi = 3.14\n",
        "radius = float(input('Please provide the radius:'))\n",
        "height = float(input('Please provide the height:'))\n",
        "\n",
        "area = 2 * pi * radius ** 2+2 * pi * radius * height\n",
        "\n",
        "print(f'Area of cylinder: {area} sq. ft')"
      ],
      "metadata": {
        "id": "q_7cOCfufBNf",
        "colab": {
          "base_uri": "https://localhost:8080/"
        },
        "outputId": "1033c794-b104-45a8-adcc-491b93964bc8"
      },
      "execution_count": null,
      "outputs": [
        {
          "output_type": "stream",
          "name": "stdout",
          "text": [
            "Please provide the radius:5\n",
            "Please provide the height:6\n",
            "Area of cylinder: 345.4 sq. ft\n"
          ]
        }
      ]
    },
    {
      "cell_type": "code",
      "source": [
        "for numberHours in range(1, 9):\n",
        "  fee = 5 + 2.5 * numberHours\n",
        "for numberHours in range(1, 9):\n",
        "  fee = 5 + 2.5 * numberHours\n",
        "  if fee < 10:\n",
        "    fee = 10.0\n",
        "  elif fee > 20:\n",
        "    fee = 20.0\n",
        "  print(numberHours, fee)"
      ],
      "metadata": {
        "colab": {
          "base_uri": "https://localhost:8080/"
        },
        "id": "bLSljEEgaHf7",
        "outputId": "d2759c66-fbeb-4be2-f5fe-d0d3e0186af2"
      },
      "execution_count": null,
      "outputs": [
        {
          "output_type": "stream",
          "name": "stdout",
          "text": [
            "1 10.0\n",
            "2 10.0\n",
            "3 12.5\n",
            "4 15.0\n",
            "5 17.5\n",
            "6 20.0\n",
            "7 20.0\n",
            "8 20.0\n"
          ]
        }
      ]
    },
    {
      "cell_type": "code",
      "source": [
        "import math\n",
        "\n",
        "for adMoney in range (0, 201, 25):\n",
        "  revenue = (20 + 2 * round((adMoney) ** .5) * 10)\n",
        "  costs = 200 + adMoney\n",
        "  profit = revenue - costs\n",
        "  print (adMoney, profit)"
      ],
      "metadata": {
        "colab": {
          "base_uri": "https://localhost:8080/"
        },
        "id": "Dx-Og_LCc7Xu",
        "outputId": "028c9b06-5c81-41f5-8ce1-1db678c582ce"
      },
      "execution_count": null,
      "outputs": [
        {
          "output_type": "stream",
          "name": "stdout",
          "text": [
            "0 -180\n",
            "25 -105\n",
            "50 -90\n",
            "75 -75\n",
            "100 -80\n",
            "125 -85\n",
            "150 -90\n",
            "175 -95\n",
            "200 -100\n"
          ]
        }
      ]
    },
    {
      "cell_type": "code",
      "source": [
        "while True:\n",
        "  userNum1 = float(input(\"Enter the first number: \"))\n",
        "  userOperator = str(input(\"Enter an operator: \"))\n",
        "\n",
        "  if userOperator == \"break\":\n",
        "    print(\"Thanks for using our calculator!\")\n",
        "\n",
        "  userNum2 = float(input(\"Enter a second number: \"))\n",
        "\n",
        "  if userOperator == \"+\":\n",
        "    answer = userNum1 + userNum2\n",
        "  elif userOperator == \"-\":\n",
        "    ansewer = userNum1 - userNum2\n",
        "  elif userOperator == \"*\":\n",
        "    answer = userNum1 * userNum2\n",
        "  elif userOperator == \"/\":\n",
        "    if userNum2 == 0:\n",
        "      print(\"Can't divide by zero. Try again.\")\n",
        "      continue\n",
        "    answer = userNum1 / userNum2\n",
        "  elif userOperator == \"//\":\n",
        "    if userNum2 == 0:\n",
        "      print(\"Can't divide by zero. Try again.\")\n",
        "      continue\n",
        "    answer = userNum1 // userNum2\n",
        "  elif userOperator == \"%\":\n",
        "    if userNum2 == 0:\n",
        "      print(\"Can't divide by zero. Try again.\")\n",
        "      continue\n",
        "    answer = userNum1 % userNum2\n",
        "  elif userOperator == \"**\":\n",
        "    answer = userNum1 ** userNum2\n",
        "  else:\n",
        "    print('Invalid operator:', userOperator)\n",
        "    continue\n",
        "  print(answer)"
      ],
      "metadata": {
        "colab": {
          "base_uri": "https://localhost:8080/"
        },
        "id": "LgHxcKiNMtZc",
        "outputId": "91a442b7-c841-462b-ce1d-21e8b8efc2c6"
      },
      "execution_count": null,
      "outputs": [
        {
          "metadata": {
            "tags": null
          },
          "name": "stdout",
          "output_type": "stream",
          "text": [
            "9.0\n"
          ]
        }
      ]
    },
    {
      "cell_type": "code",
      "source": [
        "import random\n",
        "\n",
        "play = input('Do you want to play a game (yes/no)? ').capitalize()\n",
        "\n",
        "while play == 'Yes':\n",
        "  p1 = input('Player - Choose betweem rock/paper/scissors:').capitalize()\n",
        "  p2 = random.choice(['rock','paper', 'scissors']).capitalize()\n",
        "\n",
        "  print(f'Player chose {p1}; Computer chose {p2}')\n",
        "  if p1 == p2:\n",
        "    print('Draw')\n",
        "  elif ((p1 == 'rock' and p2 == 'scissors') or\n",
        "        (p1 == 'scissors' and p2 == 'paper') or\n",
        "        (p1 == 'paper' and p2 == 'rock')\n",
        "        ):\n",
        "    print('Player 1 wins!')\n",
        "  else:\n",
        "    print('Player 2 wins!')\n",
        "\n",
        "  play = input('Do you want to play another game (yes/no)? ').capitalize()\n",
        "print('Good day...')"
      ],
      "metadata": {
        "id": "O_dZRGO3HWFL",
        "colab": {
          "base_uri": "https://localhost:8080/"
        },
        "outputId": "5839d479-f864-4a66-9d2e-796a81d70a86"
      },
      "execution_count": null,
      "outputs": [
        {
          "output_type": "stream",
          "name": "stdout",
          "text": [
            "Do you want to play a game (yes/no)? no\n",
            "Good day...\n"
          ]
        }
      ]
    },
    {
      "cell_type": "code",
      "source": [
        "months = {}\n",
        "\n",
        "names = [\"Jan\", \"Feb\", \"Mar\", \"Apr\", \"May\", \"Jun\", \"Jul\", \"Aug\", \"Sep\", \"Oct\", \"Nov\", \"Dec\"]\n",
        "numbers = [1,2,3,4,5,6,7,8,9,10,11,12];\n",
        "\n",
        "cntr = 0\n",
        "for num in numbers:\n",
        "  months[num] = names[num - 1]\n",
        "  cntr += 1\n",
        "months"
      ],
      "metadata": {
        "colab": {
          "base_uri": "https://localhost:8080/"
        },
        "id": "AE1JU8Pk2cnd",
        "outputId": "09a61858-47dc-4a6c-db65-c49724731f62"
      },
      "execution_count": null,
      "outputs": [
        {
          "output_type": "execute_result",
          "data": {
            "text/plain": [
              "{1: 'Jan',\n",
              " 2: 'Feb',\n",
              " 3: 'Mar',\n",
              " 4: 'Apr',\n",
              " 5: 'May',\n",
              " 6: 'Jun',\n",
              " 7: 'Jul',\n",
              " 8: 'Aug',\n",
              " 9: 'Sep',\n",
              " 10: 'Oct',\n",
              " 11: 'Nov',\n",
              " 12: 'Dec'}"
            ]
          },
          "metadata": {},
          "execution_count": 14
        }
      ]
    },
    {
      "cell_type": "code",
      "source": [
        "counts = {}\n",
        "\n",
        "while len(counts) < 5:\n",
        "  key = input('Give a string:')\n",
        "\n",
        "  if key not in counts:\n",
        "    counts[key] = 1\n",
        "  else:\n",
        "    counts[key] += 1\n",
        "\n",
        "counts"
      ],
      "metadata": {
        "colab": {
          "base_uri": "https://localhost:8080/"
        },
        "id": "-rSvikL24E_a",
        "outputId": "fc28d903-85bd-46b8-cefb-859ad29d0542"
      },
      "execution_count": null,
      "outputs": [
        {
          "name": "stdout",
          "output_type": "stream",
          "text": [
            "Give a string:a\n",
            "Give a string:b\n",
            "Give a string:a\n",
            "Give a string:c\n",
            "Give a string:a\n",
            "Give a string:b\n",
            "Give a string:b\n",
            "Give a string:d\n",
            "Give a string:e\n"
          ]
        },
        {
          "output_type": "execute_result",
          "data": {
            "text/plain": [
              "{'a': 3, 'b': 3, 'c': 1, 'd': 1, 'e': 1}"
            ]
          },
          "metadata": {},
          "execution_count": 15
        }
      ]
    }
  ]
}